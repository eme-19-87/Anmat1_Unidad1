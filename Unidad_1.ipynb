{
 "cells": [
  {
   "cell_type": "markdown",
   "metadata": {},
   "source": [
    "# Unidad 1: apunte interactivo\n",
    "\n",
    "- Conjuntos numéricos"
   ]
  },
  {
   "cell_type": "markdown",
   "metadata": {},
   "source": [
    "## Conjuntos numéricos\n",
    "\n",
    "### ¿Qué es un conjunto? Definición. Cardinalidad. Ejemplos.\n",
    "\n",
    "\n",
    "### Notación de conjuntos\n",
    "\n",
    "\n",
    "### Ejemplos\n",
    "#### Conjuntos numéricos\n",
    "#### Ejemplos de biología\n",
    "\n",
    "\n",
    "### Igualdad entre conjuntos\n",
    "\n",
    "\n",
    "### Subconjuntos\n",
    "\n",
    "\n",
    "### Álgebra de conjuntos\n",
    "#### Complemento\n",
    "#### Producto cartesiano\n",
    "#### Unión\n",
    "#### Intersección\n",
    "#### Diferencia\n",
    "#### Diferencia simétrica"
   ]
  },
  {
   "cell_type": "code",
   "execution_count": 2,
   "metadata": {},
   "outputs": [],
   "source": [
    "from mate1_uni1 import * # Librería con todo lo necesario para este notebook\n",
    "%matplotlib inline\n",
    "# Gráficos embebidos en el notebook"
   ]
  },
  {
   "cell_type": "code",
   "execution_count": 6,
   "metadata": {},
   "outputs": [],
   "source": [
    "A = conjunto(1,2,'mono')\n",
    "B = conjunto(1,'mono')\n",
    "C = conjunto(2,'vaca')\n",
    "D = conjunto('mono',1)"
   ]
  },
  {
   "cell_type": "code",
   "execution_count": 7,
   "metadata": {},
   "outputs": [
    {
     "name": "stdout",
     "output_type": "stream",
     "text": [
      "A = {1, 2, 'mono'}\n",
      "A tiene 3  elementos.\n",
      "\n",
      "B = {1, 'mono'}\n",
      "B tiene 2  elementos.\n",
      "\n",
      "C = {2, 'vaca'}\n",
      "C tiene 2  elementos.\n",
      "\n",
      "D = {1, 'mono'}\n",
      "D tiene 2  elementos.\n",
      "\n"
     ]
    }
   ],
   "source": [
    "# print('Conjuntos:')\n",
    "print('A =',A)\n",
    "print('A tiene',cardinalidad(A),' elementos.\\n')\n",
    "\n",
    "print('B =',B)\n",
    "print('B tiene',cardinalidad(B),' elementos.\\n')\n",
    "\n",
    "print('C =',C)\n",
    "print('C tiene',cardinalidad(C),' elementos.\\n')\n",
    "\n",
    "print('D =',D)\n",
    "print('D tiene',cardinalidad(D),' elementos.\\n')"
   ]
  },
  {
   "cell_type": "code",
   "execution_count": 5,
   "metadata": {},
   "outputs": [
    {
     "name": "stdout",
     "output_type": "stream",
     "text": [
      "False\n"
     ]
    }
   ],
   "source": [
    "# print('Pertenencia:')\n",
    "# El primer argumento es el elemento y el segundo es el conjunto\n",
    "x = 'vaca'\n",
    "print(pertenece(x,A))\n",
    "\n",
    "# Tira error si se quiere preguntar: ¿el conjunto A pertenece al elemento x?\n",
    "# print(pertenece(A,x))"
   ]
  },
  {
   "cell_type": "code",
   "execution_count": 10,
   "metadata": {},
   "outputs": [
    {
     "name": "stdout",
     "output_type": "stream",
     "text": [
      "True\n"
     ]
    }
   ],
   "source": [
    "# print('\\nIgualdad de conjuntos:')\n",
    "# No importa el orden de los conjuntos, ni el orden de los elementos dentro de los conjuntos\n",
    "print(D == B)"
   ]
  },
  {
   "cell_type": "code",
   "execution_count": 11,
   "metadata": {},
   "outputs": [
    {
     "name": "stdout",
     "output_type": "stream",
     "text": [
      "False\n",
      "True\n"
     ]
    }
   ],
   "source": [
    "# print('\\nSubconjuntos')\n",
    "# El primer argumento es el conjunto posiblemente \"más chico\", y el segundo es el posiblemente \"más grande\"\n",
    "print(subconjunto(A,B))\n",
    "print(subconjunto(B,A))"
   ]
  },
  {
   "cell_type": "code",
   "execution_count": 12,
   "metadata": {
    "collapsed": false,
    "jupyter": {
     "outputs_hidden": false
    }
   },
   "outputs": [
    {
     "name": "stdout",
     "output_type": "stream",
     "text": [
      "{1, 2, 'mono'}\n",
      "{1, 2, 'vaca', 'mono'}\n",
      "{2, 'vaca'}\n"
     ]
    }
   ],
   "source": [
    "# Unión de conjuntos\n",
    "# No importa el orden\n",
    "print(union(A,B))\n",
    "print(union(B,C))\n",
    "\n",
    "# Si se pone dos veces el mismo conjunto, devuelve correctamente el conjunto de entrada\n",
    "print(union(C,C))"
   ]
  },
  {
   "cell_type": "code",
   "execution_count": 13,
   "metadata": {
    "collapsed": false,
    "jupyter": {
     "outputs_hidden": false
    }
   },
   "outputs": [
    {
     "name": "stdout",
     "output_type": "stream",
     "text": [
      "{1, 'mono'}\n",
      "set()\n",
      "{2, 'vaca'}\n"
     ]
    }
   ],
   "source": [
    "# Intersección de conjuntos\n",
    "# No importa el orden\n",
    "print(interseccion(A,B))\n",
    "print(interseccion(B,C))\n",
    "\n",
    "# Si se pone dos veces el mismo conjunto, devuelve correctamente el conjunto de entrada\n",
    "print(interseccion(C,C))"
   ]
  },
  {
   "cell_type": "code",
   "execution_count": 11,
   "metadata": {
    "collapsed": false,
    "jupyter": {
     "outputs_hidden": false
    }
   },
   "outputs": [
    {
     "name": "stdout",
     "output_type": "stream",
     "text": [
      "{2}\n",
      "set()\n",
      "{'vaca'}\n",
      "{1, 'mono'}\n"
     ]
    }
   ],
   "source": [
    "# Diferencia entre conjuntos\n",
    "print(A - B)\n",
    "print(B - A)\n",
    "print(C - A)\n",
    "print(A - C)"
   ]
  },
  {
   "cell_type": "code",
   "execution_count": 20,
   "metadata": {
    "collapsed": false,
    "jupyter": {
     "outputs_hidden": false
    }
   },
   "outputs": [
    {
     "name": "stdout",
     "output_type": "stream",
     "text": [
      "{(2, babosa), (2, perro), (1, rojo), (3, perro), (1, perro), (3, babosa), (1, babosa), (3, rojo), (2, rojo)}\n",
      "{(perro, 3), (babosa, 1), (perro, 2), (babosa, 2), (perro, 1), (babosa, 3), (rojo, 3), (rojo, 2), (rojo, 1)}\n"
     ]
    }
   ],
   "source": [
    "# Producto cartesiano\n",
    "# Devuelve los elementos en un orden que es eficiente para python, pero los conjuntos son estructuras sin orden, o sea que esto NO IMPORTA\n",
    "print(producto_cartesiano(A,B))\n",
    "print(producto_cartesiano(B,A))"
   ]
  },
  {
   "cell_type": "code",
   "execution_count": 26,
   "metadata": {
    "collapsed": false,
    "jupyter": {
     "outputs_hidden": false
    }
   },
   "outputs": [
    {
     "data": {
      "image/png": "[encoded data removed]",
      "text/plain": [
       "<Figure size 432x576 with 1 Axes>"
      ]
     },
     "metadata": {},
     "output_type": "display_data"
    }
   ],
   "source": [
    "# Diagrama de Venn de 2 conjuntos\n",
    "A = conjunto(1,2,3,4,5,6,7,8,9,10)\n",
    "B = conjunto(1,3,5,7,11,13)\n",
    "\n",
    "venn(A,A-B)"
   ]
  },
  {
   "cell_type": "code",
   "execution_count": 5,
   "metadata": {},
   "outputs": [
    {
     "name": "stdout",
     "output_type": "stream",
     "text": [
      "----------------------Señalando Datos Y Diagrama de la Operación A-B------------------------------\n",
      "*************************************************************************************************************\n",
      " A= {'perro', '1', 'dos'} \n",
      " B= {'dos'} \n",
      " Cardinal A= 3 \n",
      " Cardinal B= 1 \n",
      " A-B= {'perro', '1'} \n",
      " Cardinal A-B= 2\n",
      "************************************************************************************************************\n"
     ]
    },
    {
     "data": {
      "image/png": "[encoded data removed]",
      "text/plain": [
       "<Figure size 432x576 with 1 Axes>"
      ]
     },
     "metadata": {},
     "output_type": "display_data"
    },
    {
     "name": "stdout",
     "output_type": "stream",
     "text": [
      "----------------------Señalando Datos Y Diagrama de la Operación A∩B------------------------------\n",
      "*************************************************************************************************************\n",
      " A= {'perro', '1', 'dos'} \n",
      " B= {'dos'} \n",
      " Cardinal A= 3 \n",
      " Cardinal B= 1 \n",
      " A∩B= {'dos'} \n",
      " Cardinal A∩B= 1\n",
      "************************************************************************************************************\n"
     ]
    },
    {
     "data": {
      "image/png": "[encoded data removed]",
      "text/plain": [
       "<Figure size 432x576 with 1 Axes>"
      ]
     },
     "metadata": {},
     "output_type": "display_data"
    }
   ],
   "source": [
    "crearInterfaz()"
   ]
  },
  {
   "cell_type": "code",
   "execution_count": null,
   "metadata": {},
   "outputs": [],
   "source": []
  }
 ],
 "metadata": {
  "kernelspec": {
   "display_name": "Python 3",
   "language": "python",
   "name": "python3"
  },
  "language_info": {
   "codemirror_mode": {
    "name": "ipython",
    "version": 3
   },
   "file_extension": ".py",
   "mimetype": "text/x-python",
   "name": "python",
   "nbconvert_exporter": "python",
   "pygments_lexer": "ipython3",
   "version": "3.6.9"
  }
 },
 "nbformat": 4,
 "nbformat_minor": 4
}
